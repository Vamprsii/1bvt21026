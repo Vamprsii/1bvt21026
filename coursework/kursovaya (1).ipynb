{
  "cells": [
    {
      "cell_type": "markdown",
      "metadata": {
        "id": "10a8WpfbHcXx"
      },
      "source": [
        "# Курсовая работа по дисциплине \"Структуры и алгоритмы обработки данных\"\n",
        "## Выполнила студентка группы БВТ2103 Полуян Юлия Александровна"
      ]
    },
    {
      "cell_type": "markdown",
      "metadata": {
        "id": "-jx-De1ZHcXy"
      },
      "source": [
        "### Задание\n",
        "\n",
        "Написать программу, которая будет считывать данные из CSV файла, содержащего\n",
        "информацию о продажах товаров в магазине. Данные в файле содержатся в следующем\n",
        "формате:\n",
        "| Номер заказа | Дата заказа | Название товара | Категория товара | Количество продаж | Цена\n",
        "за единицу | Общая стоимость |\n",
        "\n",
        "Необходимо:\n",
        "1. Рассчитать общую выручку магазина.\n",
        "2. Найти товар, который был продан наибольшее количество раз.\n",
        "3. Найти товар, который принес наибольшую выручку.\n",
        "4. Составить отчет, содержащий информацию об общей выручке магазина, количестве проданных единиц каждого товара и доле каждого товара в общей выручке.\n",
        "\n",
        "Для решения задач необходимо использовать структуры данных, такие как массивы и хеш-таблицы, а также различные алгоритмы обработки данных, например, сортировку и поиск. Также необходимо учитывать возможные ошибки ввода-вывода и обрабатывать их в\n",
        "соответствии с требованиями."
      ]
    },
    {
      "cell_type": "code",
      "execution_count": 33,
      "metadata": {
        "id": "2N1wPPHYHcXz"
      },
      "outputs": [],
      "source": [
        "class ValueError(Exception): #при ошибочных значениях поступивших на вход данных\n",
        "    \n",
        "    def __init__(self, message):\n",
        "        super().__init__(f\"Error in: \\n{message}\")\n",
        "\n",
        "def check_values(position):\n",
        "    #проверка на положительные числовые значения\n",
        "    if (int(position[\"Номер заказа\"]) < 0 and int(position[\"Количество продаж\"]) < 0 \n",
        "        and int(position[\"Цена за единицу\"]) < 0 and int(position[\"Общая стоимость\"]) < 0):\n",
        "        return False\n",
        "    #проверка формата даты - день, месяц, год\n",
        "    date = position[\"Дата заказа\"]\n",
        "    if 1 > int(date[0]) > 31 and 1 > int(date[1]) > 12 and int(date[2]) > 2024:\n",
        "      return False\n",
        "    return True\n",
        "\n",
        "\n",
        "class KeysNoEqualError(Exception): #при несоответствии ключей таблицы требованиям в условии\n",
        "\n",
        "    def __init__(self, keys, message = \"Keys don't match!\"):\n",
        "        self.keys = keys\n",
        "        self.message = message\n",
        "        super().__init__(self.message)\n",
        "\n",
        "\n",
        "check_keys = [\n",
        "        \"Номер заказа\", \n",
        "        \"Дата заказа\",\n",
        "        \"Название товара\",\n",
        "        \"Категория товара\",\n",
        "        \"Количество продаж\",\n",
        "        \"Цена за единицу\",\n",
        "        \"Общая стоимость\"\n",
        "    ]"
      ]
    },
    {
      "cell_type": "code",
      "execution_count": 50,
      "metadata": {
        "id": "sppL25GwHcX0"
      },
      "outputs": [],
      "source": [
        "import csv\n",
        "\n",
        "def read_csv(file_path):   \n",
        " \n",
        "    with open(file_path, encoding='utf-8') as file: #преобразование элементов таблицы в словарь\n",
        "        file_reader = csv.DictReader(file, delimiter = \";\")\n",
        "        positions = []\n",
        "        for row in file_reader:\n",
        "            if not check_values(row):\n",
        "                raise ValueError\n",
        "            positions.append(row)\n",
        "\n",
        "    with open('table.csv', 'r', encoding='utf-8', newline='') as csvfile: #получение списка ключей (названий столбцов) таблицы\n",
        "        spamreader = csv.reader(csvfile, delimiter=';')\n",
        "        for row in spamreader:\n",
        "            keys = row\n",
        "            break\n",
        "\n",
        "    if keys != check_keys: #обработка исключения\n",
        "        raise KeysNoEqualError(keys)\n",
        "    \n",
        "    return positions, keys\n",
        "\n",
        "positions, keys = read_csv(\"table.csv\")\n"
      ]
    },
    {
      "cell_type": "markdown",
      "metadata": {
        "id": "WT6r8f9MHcX0"
      },
      "source": [
        "### Задание 1"
      ]
    },
    {
      "cell_type": "code",
      "execution_count": 35,
      "metadata": {
        "colab": {
          "base_uri": "https://localhost:8080/"
        },
        "id": "z_lCcsLSHcX0",
        "outputId": "41911fd8-d0be-46d7-f9c3-54024ba8f32a"
      },
      "outputs": [
        {
          "output_type": "stream",
          "name": "stdout",
          "text": [
            "Общая выручка: 241969500\n"
          ]
        }
      ],
      "source": [
        "sum = 0\n",
        "\n",
        "for item in positions:\n",
        "  try:\n",
        "    sum += int(item[\"Общая стоимость\"])\n",
        "  except ValueError:\n",
        "    print(\"Data not a number\")\n",
        "    break \n",
        "\n",
        "print(\"Общая выручка:\", sum)"
      ]
    },
    {
      "cell_type": "markdown",
      "metadata": {
        "id": "qBuPwsovHcX1"
      },
      "source": [
        "### Задание 2"
      ]
    },
    {
      "cell_type": "code",
      "execution_count": 36,
      "metadata": {
        "id": "Y1xe96KpHcX1"
      },
      "outputs": [],
      "source": [
        "def quick_sort(arr, key):\n",
        "  if len(arr) <= 1:\n",
        "    return arr\n",
        "\n",
        "  prop = int(arr[len(arr) // 2][key])\n",
        "  right_part = [i for i in arr if int(i[key]) > prop]\n",
        "  left_part = [i for i in arr if int(i[key]) < prop]\n",
        "  middle = [i for i in arr if int(i[key]) == prop] \n",
        "\n",
        "  return quick_sort(left_part, key) + middle + quick_sort(right_part, key)"
      ]
    },
    {
      "cell_type": "code",
      "execution_count": 37,
      "metadata": {
        "colab": {
          "base_uri": "https://localhost:8080/"
        },
        "id": "17AIdLl7HcX1",
        "outputId": "18634317-9777-447a-9bc2-0b1aed0c1aa9"
      },
      "outputs": [
        {
          "output_type": "execute_result",
          "data": {
            "text/plain": [
              "{'Номер заказа': '4010',\n",
              " 'Дата заказа': '10.02.2022',\n",
              " 'Название товара': 'Philips Hue Smart Bulbs',\n",
              " 'Категория товара': 'Умный дом',\n",
              " 'Количество продаж': '500',\n",
              " 'Цена за единицу': '2990',\n",
              " 'Общая стоимость': '1495000'}"
            ]
          },
          "metadata": {},
          "execution_count": 37
        }
      ],
      "source": [
        "quick_sort(positions, \"Количество продаж\")[-1]"
      ]
    },
    {
      "cell_type": "markdown",
      "metadata": {
        "id": "uE09jfXtHcX2"
      },
      "source": [
        "### Задание 3"
      ]
    },
    {
      "cell_type": "code",
      "execution_count": 38,
      "metadata": {
        "id": "NOh0LUV1HcX2"
      },
      "outputs": [],
      "source": [
        "class Deque:\n",
        "\n",
        "    def __init__(self): #инициализация\n",
        "        self.positions = []\n",
        "\n",
        "    def is_empty(self): #проверка на пустоту\n",
        "        return self.positions == []\n",
        "    \n",
        "    def add_left(self, position): #добавление нового элемента в начало\n",
        "        self.positions.insert(0,position)\n",
        "\n",
        "    def add_right(self, position): #добавление нового элемента в конец\n",
        "        self.positions.append(position)\n",
        "\n",
        "    def remove_right(self): #извлечение элемента из конца\n",
        "        return self.positions.pop()\n",
        "\n",
        "    def remove_left(self): #извлечение элемента из начала\n",
        "        return self.positions.pop(0)\n",
        "    \n",
        "    def get(self): #возвращение последнего элемента\n",
        "        return self.positions[len(self.positions) - 1]\n",
        "\n",
        "    def size(self): #возвращение количества элементов\n",
        "        return len(self.positions)"
      ]
    },
    {
      "cell_type": "code",
      "execution_count": 39,
      "metadata": {
        "id": "oIJZk4xRHcX2"
      },
      "outputs": [],
      "source": [
        "def max_sort_with_deque(arr, key): #сортировка по возрастанию с использованием двух Деков\n",
        "    deque1 = Deque()\n",
        "    deque2 = Deque()\n",
        "\n",
        "    for i in arr:\n",
        "        deque1.add_right(i)\n",
        "\n",
        "    while not deque1.is_empty():\n",
        "        current = deque1.remove_right()\n",
        "        while not deque2.is_empty() and int(deque2.get()[key]) > int(current[key]):\n",
        "            deque1.add_left(deque2.remove_right())\n",
        "        deque2.add_right(current)\n",
        "\n",
        "    return deque2.get()"
      ]
    },
    {
      "cell_type": "code",
      "execution_count": 40,
      "metadata": {
        "colab": {
          "base_uri": "https://localhost:8080/"
        },
        "id": "lvCNC6qlHcX2",
        "outputId": "61b3e521-1d9a-4b62-de46-c206dff97c2f"
      },
      "outputs": [
        {
          "output_type": "execute_result",
          "data": {
            "text/plain": [
              "{'Номер заказа': '4001',\n",
              " 'Дата заказа': '01.02.2022',\n",
              " 'Название товара': 'Apple iPhone 14',\n",
              " 'Категория товара': 'Смартфоны',\n",
              " 'Количество продаж': '500',\n",
              " 'Цена за единицу': '89990',\n",
              " 'Общая стоимость': '44995000'}"
            ]
          },
          "metadata": {},
          "execution_count": 40
        }
      ],
      "source": [
        "max_sort_with_deque(positions, \"Общая стоимость\")"
      ]
    },
    {
      "cell_type": "markdown",
      "metadata": {
        "id": "Khr6hZ-cHcX2"
      },
      "source": [
        "### Задание 4"
      ]
    },
    {
      "cell_type": "code",
      "execution_count": 51,
      "metadata": {
        "colab": {
          "base_uri": "https://localhost:8080/"
        },
        "id": "3zjxAXNjHcX3",
        "outputId": "d1ce137e-023e-434c-fafd-8baf542ce192"
      },
      "outputs": [
        {
          "output_type": "stream",
          "name": "stdout",
          "text": [
            "Общая выручка: 241969500\n",
            "Название товара -  Philips Hue Smart Bulbs ; Количество продаж -  500 ; Доля товара в общей выручке -  0.6178464641204781 %\n",
            "Название товара -  Philips Sonicare DiamondClean ; Количество продаж -  200 ; Доля товара в общей выручке -  0.8257239032192073 %\n",
            "Название товара -  Nest Learning Thermostat ; Количество продаж -  100 ; Доля товара в общей выручке -  0.8261371784460437 %\n",
            "Название товара -  Bose SoundLink Revolve+ ; Количество продаж -  100 ; Доля товара в общей выручке -  1.032774791864264 %\n",
            "Название товара -  Bose QuietComfort 55 ; Количество продаж -  100 ; Доля товара в общей выручке -  1.446050018700704 %\n",
            "Название товара -  DJI Mavic 3 ; Количество продаж -  25 ; Доля товара в общей выручке -  1.5496787818299413 %\n",
            "Название товара -  Samsung Galaxy Watch 5 ; Количество продаж -  150 ; Доля товара в общей выручке -  1.8591186079237259 %\n",
            "Название товара -  LG UltraFine ; Количество продаж -  50 ; Доля товара в общей выручке -  2.0661694965687825 %\n",
            "Название товара -  Samsung Galaxy Tab S8 ; Количество продаж -  75 ; Доля товара в общей выручке -  2.169384984471183 %\n",
            "Название товара -  Sony PlayStation 5 Pro ; Количество продаж -  100 ; Доля товара в общей выручке -  2.4792380857918044 %\n",
            "Название товара -  Samsung Galaxy Book Pro ; Количество продаж -  50 ; Доля товара в общей выручке -  2.6860823368234423 %\n",
            "Название товара -  Игровые приставки ; Количество продаж -  200 ; Доля товара в общей выручке -  4.958476171583609 %\n",
            "Название товара -  Canon EOS R7 ; Количество продаж -  50 ; Доля товара в общей выручке -  5.165733697842083 %\n",
            "Название товара -  DJI Ronin 4D ; Количество продаж -  25 ; Доля товара в общей выручке -  5.165837016648792 %\n",
            "Название товара -  Apple iPad Pro 12.9 ; Количество продаж -  200 ; Доля товара в общей выручке -  7.43812753260225 %\n",
            "Название товара -  Apple MacBook Pro 16 ; Количество продаж -  100 ; Доля товара в общей выручке -  8.265091261501967 %\n",
            "Название товара -  Canon EOS R8 ; Количество продаж -  75 ; Доля товара в общей выручке -  9.298382647399775 %\n",
            "Название товара -  LG OLED TV ; Количество продаж -  150 ; Доля товара в общей выручке -  11.15781121174363 %\n",
            "Название товара -  Samsung Galaxy S22 Ultra ; Количество продаж -  300 ; Доля товара в общей выручке -  12.397016979412696 %\n",
            "Название товара -  Apple iPhone 14 ; Количество продаж -  500 ; Доля товара в общей выручке -  18.595318831505622 %\n"
          ]
        }
      ],
      "source": [
        "print(\"Общая выручка:\", sum)\n",
        "\n",
        "for position in quick_sort(positions, \"Общая стоимость\"):\n",
        "    try:\n",
        "        print(\n",
        "            \"Название товара - \", position[\"Название товара\"],\";\",\n",
        "            \"Количество продаж - \", position[\"Количество продаж\"],\";\",\n",
        "            \"Доля товара в общей выручке - \", int(position[\"Общая стоимость\"]) / sum * 100, \"%\"\n",
        "        )   \n",
        "    except KeysNoEqualError:\n",
        "        print(\"Keys are wrong!\")\n",
        "        break\n"
      ]
    },
    {
      "cell_type": "code",
      "source": [
        "print(\"Общая выручка:\", sum)\n",
        "\n",
        "# реализация в табличном виде через Pandas\n",
        "import pandas as pd\n",
        "positions = pd.read_csv('table.csv', sep=';')\n",
        "\n",
        "def revenue_share(number):\n",
        "    return str(number * 100 / sum) + '%'\n",
        "\n",
        "positions['Доля выручки'] = positions['Общая стоимость'].apply(revenue_share)\n",
        "positions[['Название товара', 'Количество продаж', 'Доля выручки']]\n",
        "\n"
      ],
      "metadata": {
        "colab": {
          "base_uri": "https://localhost:8080/",
          "height": 694
        },
        "id": "qDVurouDXabJ",
        "outputId": "9aff9717-4775-472c-e2ba-bffdf1f4c3c6"
      },
      "execution_count": 54,
      "outputs": [
        {
          "output_type": "stream",
          "name": "stdout",
          "text": [
            "Общая выручка: 241969500\n"
          ]
        },
        {
          "output_type": "execute_result",
          "data": {
            "text/plain": [
              "                  Название товара  Количество продаж         Доля выручки\n",
              "0                 Apple iPhone 14                500  18.595318831505622%\n",
              "1        Samsung Galaxy S22 Ultra                300  12.397016979412694%\n",
              "2               Игровые приставки                200   4.958476171583609%\n",
              "3                      LG OLED TV                150   11.15781121174363%\n",
              "4            Apple MacBook Pro 16                100   8.265091261501967%\n",
              "5                    Canon EOS R7                 50   5.165733697842083%\n",
              "6            Bose QuietComfort 55                100   1.446050018700704%\n",
              "7           Samsung Galaxy Tab S8                 75   2.169384984471183%\n",
              "8                     DJI Mavic 3                 25  1.5496787818299413%\n",
              "9         Philips Hue Smart Bulbs                500   0.617846464120478%\n",
              "10            Apple iPad Pro 12.9                200   7.438127532602249%\n",
              "11         Sony PlayStation 5 Pro                100  2.4792380857918044%\n",
              "12         Samsung Galaxy Watch 5                150  1.8591186079237259%\n",
              "13                   LG UltraFine                 50  2.0661694965687825%\n",
              "14                   Canon EOS R8                 75   9.298382647399775%\n",
              "15        Bose SoundLink Revolve+                100  1.0327747918642638%\n",
              "16                   DJI Ronin 4D                 25   5.165837016648792%\n",
              "17        Samsung Galaxy Book Pro                 50  2.6860823368234428%\n",
              "18  Philips Sonicare DiamondClean                200  0.8257239032192074%\n",
              "19       Nest Learning Thermostat                100  0.8261371784460438%"
            ],
            "text/html": [
              "\n",
              "  <div id=\"df-e0e80311-06d7-4a86-a328-49244a869dd9\">\n",
              "    <div class=\"colab-df-container\">\n",
              "      <div>\n",
              "<style scoped>\n",
              "    .dataframe tbody tr th:only-of-type {\n",
              "        vertical-align: middle;\n",
              "    }\n",
              "\n",
              "    .dataframe tbody tr th {\n",
              "        vertical-align: top;\n",
              "    }\n",
              "\n",
              "    .dataframe thead th {\n",
              "        text-align: right;\n",
              "    }\n",
              "</style>\n",
              "<table border=\"1\" class=\"dataframe\">\n",
              "  <thead>\n",
              "    <tr style=\"text-align: right;\">\n",
              "      <th></th>\n",
              "      <th>Название товара</th>\n",
              "      <th>Количество продаж</th>\n",
              "      <th>Доля выручки</th>\n",
              "    </tr>\n",
              "  </thead>\n",
              "  <tbody>\n",
              "    <tr>\n",
              "      <th>0</th>\n",
              "      <td>Apple iPhone 14</td>\n",
              "      <td>500</td>\n",
              "      <td>18.595318831505622%</td>\n",
              "    </tr>\n",
              "    <tr>\n",
              "      <th>1</th>\n",
              "      <td>Samsung Galaxy S22 Ultra</td>\n",
              "      <td>300</td>\n",
              "      <td>12.397016979412694%</td>\n",
              "    </tr>\n",
              "    <tr>\n",
              "      <th>2</th>\n",
              "      <td>Игровые приставки</td>\n",
              "      <td>200</td>\n",
              "      <td>4.958476171583609%</td>\n",
              "    </tr>\n",
              "    <tr>\n",
              "      <th>3</th>\n",
              "      <td>LG OLED TV</td>\n",
              "      <td>150</td>\n",
              "      <td>11.15781121174363%</td>\n",
              "    </tr>\n",
              "    <tr>\n",
              "      <th>4</th>\n",
              "      <td>Apple MacBook Pro 16</td>\n",
              "      <td>100</td>\n",
              "      <td>8.265091261501967%</td>\n",
              "    </tr>\n",
              "    <tr>\n",
              "      <th>5</th>\n",
              "      <td>Canon EOS R7</td>\n",
              "      <td>50</td>\n",
              "      <td>5.165733697842083%</td>\n",
              "    </tr>\n",
              "    <tr>\n",
              "      <th>6</th>\n",
              "      <td>Bose QuietComfort 55</td>\n",
              "      <td>100</td>\n",
              "      <td>1.446050018700704%</td>\n",
              "    </tr>\n",
              "    <tr>\n",
              "      <th>7</th>\n",
              "      <td>Samsung Galaxy Tab S8</td>\n",
              "      <td>75</td>\n",
              "      <td>2.169384984471183%</td>\n",
              "    </tr>\n",
              "    <tr>\n",
              "      <th>8</th>\n",
              "      <td>DJI Mavic 3</td>\n",
              "      <td>25</td>\n",
              "      <td>1.5496787818299413%</td>\n",
              "    </tr>\n",
              "    <tr>\n",
              "      <th>9</th>\n",
              "      <td>Philips Hue Smart Bulbs</td>\n",
              "      <td>500</td>\n",
              "      <td>0.617846464120478%</td>\n",
              "    </tr>\n",
              "    <tr>\n",
              "      <th>10</th>\n",
              "      <td>Apple iPad Pro 12.9</td>\n",
              "      <td>200</td>\n",
              "      <td>7.438127532602249%</td>\n",
              "    </tr>\n",
              "    <tr>\n",
              "      <th>11</th>\n",
              "      <td>Sony PlayStation 5 Pro</td>\n",
              "      <td>100</td>\n",
              "      <td>2.4792380857918044%</td>\n",
              "    </tr>\n",
              "    <tr>\n",
              "      <th>12</th>\n",
              "      <td>Samsung Galaxy Watch 5</td>\n",
              "      <td>150</td>\n",
              "      <td>1.8591186079237259%</td>\n",
              "    </tr>\n",
              "    <tr>\n",
              "      <th>13</th>\n",
              "      <td>LG UltraFine</td>\n",
              "      <td>50</td>\n",
              "      <td>2.0661694965687825%</td>\n",
              "    </tr>\n",
              "    <tr>\n",
              "      <th>14</th>\n",
              "      <td>Canon EOS R8</td>\n",
              "      <td>75</td>\n",
              "      <td>9.298382647399775%</td>\n",
              "    </tr>\n",
              "    <tr>\n",
              "      <th>15</th>\n",
              "      <td>Bose SoundLink Revolve+</td>\n",
              "      <td>100</td>\n",
              "      <td>1.0327747918642638%</td>\n",
              "    </tr>\n",
              "    <tr>\n",
              "      <th>16</th>\n",
              "      <td>DJI Ronin 4D</td>\n",
              "      <td>25</td>\n",
              "      <td>5.165837016648792%</td>\n",
              "    </tr>\n",
              "    <tr>\n",
              "      <th>17</th>\n",
              "      <td>Samsung Galaxy Book Pro</td>\n",
              "      <td>50</td>\n",
              "      <td>2.6860823368234428%</td>\n",
              "    </tr>\n",
              "    <tr>\n",
              "      <th>18</th>\n",
              "      <td>Philips Sonicare DiamondClean</td>\n",
              "      <td>200</td>\n",
              "      <td>0.8257239032192074%</td>\n",
              "    </tr>\n",
              "    <tr>\n",
              "      <th>19</th>\n",
              "      <td>Nest Learning Thermostat</td>\n",
              "      <td>100</td>\n",
              "      <td>0.8261371784460438%</td>\n",
              "    </tr>\n",
              "  </tbody>\n",
              "</table>\n",
              "</div>\n",
              "      <button class=\"colab-df-convert\" onclick=\"convertToInteractive('df-e0e80311-06d7-4a86-a328-49244a869dd9')\"\n",
              "              title=\"Convert this dataframe to an interactive table.\"\n",
              "              style=\"display:none;\">\n",
              "        \n",
              "  <svg xmlns=\"http://www.w3.org/2000/svg\" height=\"24px\"viewBox=\"0 0 24 24\"\n",
              "       width=\"24px\">\n",
              "    <path d=\"M0 0h24v24H0V0z\" fill=\"none\"/>\n",
              "    <path d=\"M18.56 5.44l.94 2.06.94-2.06 2.06-.94-2.06-.94-.94-2.06-.94 2.06-2.06.94zm-11 1L8.5 8.5l.94-2.06 2.06-.94-2.06-.94L8.5 2.5l-.94 2.06-2.06.94zm10 10l.94 2.06.94-2.06 2.06-.94-2.06-.94-.94-2.06-.94 2.06-2.06.94z\"/><path d=\"M17.41 7.96l-1.37-1.37c-.4-.4-.92-.59-1.43-.59-.52 0-1.04.2-1.43.59L10.3 9.45l-7.72 7.72c-.78.78-.78 2.05 0 2.83L4 21.41c.39.39.9.59 1.41.59.51 0 1.02-.2 1.41-.59l7.78-7.78 2.81-2.81c.8-.78.8-2.07 0-2.86zM5.41 20L4 18.59l7.72-7.72 1.47 1.35L5.41 20z\"/>\n",
              "  </svg>\n",
              "      </button>\n",
              "      \n",
              "  <style>\n",
              "    .colab-df-container {\n",
              "      display:flex;\n",
              "      flex-wrap:wrap;\n",
              "      gap: 12px;\n",
              "    }\n",
              "\n",
              "    .colab-df-convert {\n",
              "      background-color: #E8F0FE;\n",
              "      border: none;\n",
              "      border-radius: 50%;\n",
              "      cursor: pointer;\n",
              "      display: none;\n",
              "      fill: #1967D2;\n",
              "      height: 32px;\n",
              "      padding: 0 0 0 0;\n",
              "      width: 32px;\n",
              "    }\n",
              "\n",
              "    .colab-df-convert:hover {\n",
              "      background-color: #E2EBFA;\n",
              "      box-shadow: 0px 1px 2px rgba(60, 64, 67, 0.3), 0px 1px 3px 1px rgba(60, 64, 67, 0.15);\n",
              "      fill: #174EA6;\n",
              "    }\n",
              "\n",
              "    [theme=dark] .colab-df-convert {\n",
              "      background-color: #3B4455;\n",
              "      fill: #D2E3FC;\n",
              "    }\n",
              "\n",
              "    [theme=dark] .colab-df-convert:hover {\n",
              "      background-color: #434B5C;\n",
              "      box-shadow: 0px 1px 3px 1px rgba(0, 0, 0, 0.15);\n",
              "      filter: drop-shadow(0px 1px 2px rgba(0, 0, 0, 0.3));\n",
              "      fill: #FFFFFF;\n",
              "    }\n",
              "  </style>\n",
              "\n",
              "      <script>\n",
              "        const buttonEl =\n",
              "          document.querySelector('#df-e0e80311-06d7-4a86-a328-49244a869dd9 button.colab-df-convert');\n",
              "        buttonEl.style.display =\n",
              "          google.colab.kernel.accessAllowed ? 'block' : 'none';\n",
              "\n",
              "        async function convertToInteractive(key) {\n",
              "          const element = document.querySelector('#df-e0e80311-06d7-4a86-a328-49244a869dd9');\n",
              "          const dataTable =\n",
              "            await google.colab.kernel.invokeFunction('convertToInteractive',\n",
              "                                                     [key], {});\n",
              "          if (!dataTable) return;\n",
              "\n",
              "          const docLinkHtml = 'Like what you see? Visit the ' +\n",
              "            '<a target=\"_blank\" href=https://colab.research.google.com/notebooks/data_table.ipynb>data table notebook</a>'\n",
              "            + ' to learn more about interactive tables.';\n",
              "          element.innerHTML = '';\n",
              "          dataTable['output_type'] = 'display_data';\n",
              "          await google.colab.output.renderOutput(dataTable, element);\n",
              "          const docLink = document.createElement('div');\n",
              "          docLink.innerHTML = docLinkHtml;\n",
              "          element.appendChild(docLink);\n",
              "        }\n",
              "      </script>\n",
              "    </div>\n",
              "  </div>\n",
              "  "
            ]
          },
          "metadata": {},
          "execution_count": 54
        }
      ]
    }
  ],
  "metadata": {
    "kernelspec": {
      "display_name": "Python 3",
      "language": "python",
      "name": "python3"
    },
    "language_info": {
      "codemirror_mode": {
        "name": "ipython",
        "version": 3
      },
      "file_extension": ".py",
      "mimetype": "text/x-python",
      "name": "python",
      "nbconvert_exporter": "python",
      "pygments_lexer": "ipython3",
      "version": "3.10.11"
    },
    "orig_nbformat": 4,
    "colab": {
      "provenance": []
    }
  },
  "nbformat": 4,
  "nbformat_minor": 0
}
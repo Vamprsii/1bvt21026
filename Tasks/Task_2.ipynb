{
  "cells": [
    {
      "cell_type": "markdown",
      "id": "fifteen-sailing",
      "metadata": {
        "id": "fifteen-sailing"
      },
      "source": [
        "# Таски №2\n",
        "## Выполнил студент группы БВТ2103 Полуян Юлия Александровна"
      ]
    },
    {
      "cell_type": "markdown",
      "id": "arctic-stocks",
      "metadata": {
        "id": "arctic-stocks"
      },
      "source": [
        "### Задание №1 \n",
        "Даны две строки: s1 и s2 с одинаковым размером, проверьте, может ли\n",
        "некоторая перестановка строки s1 “победить” некоторую перестановку\n",
        "строки s2 или наоборот.\n",
        "\n",
        "Строка x может “победить” строку y (обе имеют размер n), если x[i]> = y\n",
        "[i] (в алфавитном порядке) для всех i от 0 до n-1."
      ]
    },
    {
      "cell_type": "code",
      "source": [
        "def winString(s1, s2): #проверка \"победы\" некоторой перестановки s1 над s2 и наоборот\n",
        "    if len(s1) != len(s2):\n",
        "        return False\n",
        "    char1 = sorted(s1)\n",
        "    char2 = sorted(s2)\n",
        "    i = 0\n",
        "    while i < len(s1): #проверка \"победы\" первой строки над второй\n",
        "        if (char1[i] < char2[i]): #если условие \"победы\" не выполняется\n",
        "            break #прерываем цикл, т.к. строки изначально отсортированы\n",
        "        i += 1\n",
        "    if (i == len(s1)):\n",
        "        return True\n",
        "    i = 0\n",
        "    while i < len(s2): #проверка \"победы\" второй строки над первой\n",
        "        if (char2[i] < char1[i]):\n",
        "            break\n",
        "        i += 1\n",
        "    if (i == len(s2)):\n",
        "        return True\n",
        "    else:\n",
        "        return False\n",
        "\n",
        "\n",
        "s1 = \"abe\"\n",
        "s2 = \"acd\"\n",
        "winString(s1, s2)\n"
      ],
      "metadata": {
        "colab": {
          "base_uri": "https://localhost:8080/"
        },
        "id": "81z1dR3qHQ8U",
        "outputId": "67b13267-c947-49b7-a9a4-51f707849528"
      },
      "id": "81z1dR3qHQ8U",
      "execution_count": 25,
      "outputs": [
        {
          "output_type": "execute_result",
          "data": {
            "text/plain": [
              "False"
            ]
          },
          "metadata": {},
          "execution_count": 25
        }
      ]
    },
    {
      "cell_type": "markdown",
      "id": "maritime-conversation",
      "metadata": {
        "id": "maritime-conversation"
      },
      "source": [
        "### Задание №2 \n",
        "Дана строка s, вернуть самую длинную полиндромную подстроку в s\n"
      ]
    },
    {
      "cell_type": "code",
      "source": [
        "\n",
        "def longestPalindrome(s):\n",
        "    # самый большой палиндромом, найденный на данный момент\n",
        "    gmax = \"\"\n",
        "\n",
        "    # Для каждого индекса в s\n",
        "    for i in range(len(s)):\n",
        "        # Проверка на нечетность палиндрома\n",
        "        # так, l и r равны и как палиндром четной длины\n",
        "        o, e = checkPal(s, i, i), checkPal(s, i, i + 1)\n",
        "        # Установливаем в значение gmax самый длинный найденный палиндром\n",
        "        if len(o) > len(gmax): gmax = o\n",
        "        if len(e) > len(gmax): gmax = e\n",
        "    return gmax\n",
        "\n",
        "# Вспомогательная функция для поиска самого длинного палиндрома с учетом левого\n",
        "# начального индекса и правого начального индекса\n",
        "def checkPal(s, l, r):\n",
        "  # До тех пор, пока l >= 0 и r меньше длины строки, а элементы в s и l равны\n",
        "  while l >= 0 and r < len(s) and s[l] == s[r]:\n",
        "    l -= 1;\n",
        "    r += 1\n",
        "  # Возвращает s [l + 1:r], потому что цикл while завершится после того, как будет\n",
        "  # выполнено одно дополнительное уменьшение l (т.е. s [l] ! = s [r] больше), и до r,\n",
        "  # потому что нарезка списка python увеличивается, но не включает\n",
        "  return s[l + 1: r]\n",
        "\n",
        "a = \"babad\"\n",
        "b = \"cbbd\"\n",
        "print('Самая длинная полиндромная подстрока a:', longestPalindrome(a))\n",
        "print('Самая длинная полиндромная подстрока b:', longestPalindrome(b))"
      ],
      "metadata": {
        "colab": {
          "base_uri": "https://localhost:8080/"
        },
        "id": "Vwvab8LtDh3-",
        "outputId": "69e7b919-9bd2-4494-8d74-13e43394e81d"
      },
      "id": "Vwvab8LtDh3-",
      "execution_count": 12,
      "outputs": [
        {
          "output_type": "stream",
          "name": "stdout",
          "text": [
            "Самая длинная полиндромная подстрока a: bab\n",
            "Самая длинная полиндромная подстрока b: bb\n"
          ]
        }
      ]
    },
    {
      "cell_type": "markdown",
      "id": "catholic-roots",
      "metadata": {
        "id": "catholic-roots"
      },
      "source": [
        "### Задание №3 \n",
        "Вернуть количество отдельных непустых подстрок текста, которые могут\n",
        "быть записаны как конкатенация некоторой строки с самой собой (т.е. она\n",
        "может быть записана, как a + a, где a - некоторая строка).\n",
        "\n"
      ]
    },
    {
      "cell_type": "code",
      "source": [
        "# Функция для подсчета максимального количества распространенных\n",
        "# неповторяющихся символов, которые могут быть получены путем разбиения строки на две непустые подстроки\n",
        "def countCommonChar(ind, S):\n",
        "    # Сохраняет количество неповторяющихся символов в обеих подстроках\n",
        "    cnt = 0\n",
        "\n",
        "    # Сохраняет отдельные символы в левой подстроке\n",
        "    ls = set()\n",
        "\n",
        "    # Сохраняет отдельные символы в правой подстроке\n",
        "    rs = set()\n",
        "\n",
        "    # Обход левой подстроки\n",
        "    for i in range(ind):\n",
        "        # Вставляем S[i] в ls\n",
        "        ls.add(S[i])\n",
        "\n",
        "    # Обход правой подстроки\n",
        "    for i in range(ind, len(S)):\n",
        "        # Вставляем S[i] в rs\n",
        "        rs.add(S[i])\n",
        "\n",
        "    # Перебираем отдельные символы левой подстроки\n",
        "    for v in ls:\n",
        "\n",
        "        # Если текущий символ присутствует в правой подстроке\n",
        "        if v in rs:\n",
        "            cnt += 1\n",
        "    return cnt\n",
        "\n",
        "\n",
        "# Функция для разделения строки на две непустые подстроки всеми возможными способами\n",
        "def partitionStringWithMaxCom(S):\n",
        "    # Сохраняет максимальное количество общих различных символов, присутствующих в обоих разделах подстроки\n",
        "    ans = 0\n",
        "\n",
        "    # Проходим по строке\n",
        "    for i in range(1, len(S)):\n",
        "        ans = max(ans, countCommonChar(i, S))\n",
        "    print(ans)\n",
        "\n",
        "\n",
        "\n",
        "string = \"abcabcabc\"\n",
        "partitionStringWithMaxCom(string)\n"
      ],
      "metadata": {
        "colab": {
          "base_uri": "https://localhost:8080/"
        },
        "id": "tPBjedjeGiPz",
        "outputId": "55827046-f5f8-49f1-ebad-676a1a276f43"
      },
      "id": "tPBjedjeGiPz",
      "execution_count": 18,
      "outputs": [
        {
          "output_type": "stream",
          "name": "stdout",
          "text": [
            "3\n"
          ]
        }
      ]
    }
  ],
  "metadata": {
    "kernelspec": {
      "display_name": "Python 3 (ipykernel)",
      "language": "python",
      "name": "python3"
    },
    "language_info": {
      "codemirror_mode": {
        "name": "ipython",
        "version": 3
      },
      "file_extension": ".py",
      "mimetype": "text/x-python",
      "name": "python",
      "nbconvert_exporter": "python",
      "pygments_lexer": "ipython3",
      "version": "3.10.2"
    },
    "colab": {
      "provenance": []
    }
  },
  "nbformat": 4,
  "nbformat_minor": 5
}
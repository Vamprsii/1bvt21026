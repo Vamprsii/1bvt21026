{
  "cells": [
    {
      "cell_type": "markdown",
      "id": "fifteen-sailing",
      "metadata": {
        "id": "fifteen-sailing"
      },
      "source": [
        "# Таски №1\n",
        "## Выполнил студент группы БВТ2103 Полуян Юлия Александровна"
      ]
    },
    {
      "cell_type": "markdown",
      "id": "arctic-stocks",
      "metadata": {
        "id": "arctic-stocks"
      },
      "source": [
        "### Задание №1 «Треугольник с максимальным периметром»\n",
        "Массив A состоит из целых положительных чисел ­ длин отрезков. Составьте из трех отрезков такой треугольник, чтобы его периметр был максимально возможным. Если невозможно\n",
        "составить треугольник с положительной площадью ­ функция возвращает 0."
      ]
    },
    {
      "cell_type": "code",
      "execution_count": 4,
      "id": "caring-truck",
      "metadata": {
        "scrolled": true,
        "id": "caring-truck",
        "colab": {
          "base_uri": "https://localhost:8080/"
        },
        "outputId": "78089d7f-2c5a-4083-aaf4-cb8cfa6e180f"
      },
      "outputs": [
        {
          "output_type": "stream",
          "name": "stdout",
          "text": [
            "Периметр треугольника a равен: 5\n",
            "Периметр треугольника b равен: 0\n",
            "Периметр треугольника c равен: 10\n",
            "Периметр треугольника d равен: 8\n"
          ]
        }
      ],
      "source": [
        "from typing import List\n",
        "\n",
        "from matplotlib import collections\n",
        "\n",
        "def maxPerimeter(arr):\n",
        "    maxi = 0\n",
        "    n = len(arr)\n",
        "\n",
        "    # выбираем 3 различных элемента из массива\n",
        "    for i in range(n - 2):\n",
        "        for j in range(i + 1, n - 1):\n",
        "            for k in range(j + 1, n):\n",
        "                # a, b, c = стороны треугольника\n",
        "                a = arr[i]\n",
        "                b = arr[j]\n",
        "                c = arr[k]\n",
        "                if (a < b + c and b < a + c\n",
        "                        and c < a + b):\n",
        "                    maxi = max(maxi, a + b + c)\n",
        "\n",
        "    if (maxi == 0):\n",
        "        return 0\n",
        "    else:\n",
        "        return str(maxi)\n",
        "\n",
        "\n",
        "\n",
        "a = [2,1,2]\n",
        "b = [1,2,1]\n",
        "c = [3,2,3,4]\n",
        "d = [3,6,2,3]\n",
        "\n",
        "print(\"Периметр треугольника a равен:\", maxPerimeter(a))\n",
        "print(\"Периметр треугольника b равен:\", maxPerimeter(b))\n",
        "print(\"Периметр треугольника c равен:\", maxPerimeter(c))\n",
        "print(\"Периметр треугольника d равен:\", maxPerimeter(d))"
      ]
    },
    {
      "cell_type": "markdown",
      "id": "maritime-conversation",
      "metadata": {
        "id": "maritime-conversation"
      },
      "source": [
        "### Задание №2 «Максимальное число»\n",
        "Дан массив неотрицательных целых чисел nums. Расположите их в таком порядке, чтобы\n",
        "вместе они образовали максимально возможное число.\n",
        "\n",
        "**Замечание**: Результат может быть очень большим числом, поэтому представьте его как\n",
        "string, а не integer.\n"
      ]
    },
    {
      "cell_type": "code",
      "execution_count": 6,
      "id": "alert-charm",
      "metadata": {
        "id": "alert-charm",
        "outputId": "0d255ae0-fc8f-4755-e243-7344119da32c",
        "colab": {
          "base_uri": "https://localhost:8080/"
        }
      },
      "outputs": [
        {
          "output_type": "stream",
          "name": "stdout",
          "text": [
            "Максимально возможное число из чисел a: 210\n",
            "Максимально возможное число из чисел b: 9534330\n",
            "Максимально возможное число из чисел c: 1\n",
            "Максимально возможное число из чисел d: 10\n"
          ]
        }
      ],
      "source": [
        "def largestNumber(array):\n",
        "    #Проверяем количество элементов, если он один - то этот элемент и будет самым большим числом\n",
        "    if len(array) == 1:\n",
        "        return str(array[0])\n",
        "\n",
        "    # Поиск максимально возможного элемента\n",
        "    # Сначала преобразуем список в строковый массив, подходящий для объединения\n",
        "    for i in range(len(array)):\n",
        "        array[i] = str(array[i])\n",
        "\n",
        "    # находим самый большой элемент методом замены\n",
        "    for i in range(len(array)):\n",
        "        for j in range(1 + i, len(array)):\n",
        "            if array[j] + array[i] > array[i] + array[j]:\n",
        "                array[i], array[j] = array[j], array[i]\n",
        "\n",
        "    result = ''.join(array)\n",
        "\n",
        "    # если все элементы равны 0, ответ должен быть 0\n",
        "    if (result == '0' * len(result)):\n",
        "        return '0'\n",
        "    else:\n",
        "        return result\n",
        "\n",
        "\n",
        "a = [10,2]\n",
        "b = [3,30,34,5,9]\n",
        "c = [1]\n",
        "d = [10]\n",
        "print(\"Максимально возможное число из чисел a:\", largestNumber(a))\n",
        "print(\"Максимально возможное число из чисел b:\", largestNumber(b))\n",
        "print(\"Максимально возможное число из чисел c:\", largestNumber(c))\n",
        "print(\"Максимально возможное число из чисел d:\", largestNumber(d))"
      ]
    },
    {
      "cell_type": "markdown",
      "id": "catholic-roots",
      "metadata": {
        "id": "catholic-roots"
      },
      "source": [
        "### Задание №3 «Сортировка диагоналей в матрице»\n",
        "Дана матрица mat размером m * n, значения ­ целочисленные. Напишите функцию, сортирующую каждую диагональ матрицы по возрастанию и возвращающую получившуюся матрицу.\n"
      ]
    },
    {
      "cell_type": "code",
      "source": [
        "def sortDiag(mat): #сортировка диагоналей в матрице\n",
        "    m = len(mat) #кол-во строк\n",
        "    n = len(mat[0]) - 1 #кол-во столбцов - 1\n",
        "    diag = [] #массив для хранения отсортированных диагоналей\n",
        "    for i in range(2-m, n): #цикл по кол-ву диагоналей (кроме первой и последней)\n",
        "        for j in range (m):\n",
        "            if (i + j >= 0 and i + j <= n):\n",
        "                diag.append(mat[j][i + j])\n",
        "        diag.sort()\n",
        "        k = 0\n",
        "        for j in range (m): #обновление матрицы отсортированными диагоналями\n",
        "            if (i + j >= 0 and i + j <= n):\n",
        "                mat[j][i + j] = diag[k]\n",
        "                k+=1\n",
        "        diag = []\n",
        "    return mat\n",
        "mat1 = [[3, 3, 1, 1], [2, 2, 1, 2], [1, 1, 1, 2]]\n",
        "mat2 = [[11, 25, 66, 1, 69, 7], [23, 55, 17, 45, 15, 52], [75, 31, 36,\n",
        "44, 58, 8], [22, 27, 33, 25, 68, 4], [84, 28, 14, 11, 5, 50]]\n",
        "\n",
        "print(\"Результат сортировки матрицы mat1:\", sortDiag(mat1))\n",
        "print(\"Результат сортировки матрицы mat2:\", sortDiag(mat2))\n"
      ],
      "metadata": {
        "colab": {
          "base_uri": "https://localhost:8080/"
        },
        "id": "6t__P5liBcTp",
        "outputId": "9a90c112-40d1-42b2-c5b6-a9881e06a83a"
      },
      "id": "6t__P5liBcTp",
      "execution_count": 8,
      "outputs": [
        {
          "output_type": "stream",
          "name": "stdout",
          "text": [
            "Результат сортировки матрицы mat1: [[1, 1, 1, 1], [1, 2, 2, 2], [1, 2, 3, 3]]\n",
            "Результат сортировки матрицы mat2: [[5, 17, 4, 1, 52, 7], [11, 11, 25, 45, 8, 69], [14, 23, 25, 44, 58, 15], [22, 27, 31, 36, 50, 66], [84, 28, 75, 33, 55, 68]]\n"
          ]
        }
      ]
    }
  ],
  "metadata": {
    "kernelspec": {
      "display_name": "Python 3 (ipykernel)",
      "language": "python",
      "name": "python3"
    },
    "language_info": {
      "codemirror_mode": {
        "name": "ipython",
        "version": 3
      },
      "file_extension": ".py",
      "mimetype": "text/x-python",
      "name": "python",
      "nbconvert_exporter": "python",
      "pygments_lexer": "ipython3",
      "version": "3.10.2"
    },
    "colab": {
      "provenance": []
    }
  },
  "nbformat": 4,
  "nbformat_minor": 5
}
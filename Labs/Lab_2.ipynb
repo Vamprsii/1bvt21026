{
  "cells": [
    {
      "cell_type": "markdown",
      "id": "fifteen-sailing",
      "metadata": {
        "id": "fifteen-sailing"
      },
      "source": [
        "# Лабораторная работа №4\n",
        "## Выполнил студент группы БВТ2103 Полуян Юлия Александровна"
      ]
    },
    {
      "cell_type": "markdown",
      "id": "arctic-stocks",
      "metadata": {
        "id": "arctic-stocks"
      },
      "source": [
        "Реализовать следующие структуры данных:\n",
        "  \n",
        "● <b> Стек (stack): </b>  \n",
        "Операции для стека: \n",
        "<i> инициализация, проверка на пустоту, добавление нового элемента в начало, извлечение элемента из начала;  </i>  \n",
        "  \n",
        "● <b> Дек (двусторонняя очередь, deque):  </b>  \n",
        "Операции для дека: \n",
        "<i> инициализация, проверка на пустоту, добавление нового элемента в начало, добавление нового элемента в конец, извлечение элемента из начала, извлечение элемента из конца. </i>  \n",
        "  \n",
        "<i> Разработать программу обработки данных, содержащихся в заранее подготовленном txt-файле, в соответствии с заданиями, применив указанную в задании структуру данных. Результат работы программы вывести на экран и сохранить в отдельном txt-файле. </i>"
      ]
    },
    {
      "cell_type": "code",
      "source": [
        "class Linked_List:\n",
        "    def __init__(self, value=None):\n",
        "        self.value = value\n",
        "        self.right = None\n",
        "        self.left = None\n",
        "#Стек\n",
        "class Stack:\n",
        "    def __init__(self):    #инициализация\n",
        "        self.head = Linked_List()\n",
        "        self.size = 0\n",
        "\n",
        "    def empty(self):    #empty - пустота стека\n",
        "        return self.size == 0\n",
        "\n",
        "    def add(self, value):   #add - добавляет элемент в верхнюю часть стека\n",
        "        if self.size > 0:\n",
        "            node = Linked_List(value)\n",
        "            node.right = self.head\n",
        "            self.head = node\n",
        "        else:\n",
        "            self.head.value = value\n",
        "        self.size += 1\n",
        "      \n",
        "    def delete(self):           #delete - удаляет элемент в верхней части стека\n",
        "        if self.empty():\n",
        "            return println(\"Пустой стек\")\n",
        "        remove = self.head\n",
        "        if self.size > 1:\n",
        "            self.head = remove.right\n",
        "        self.size -= 1\n",
        "        return remove.value\n",
        "    \n",
        "    def top(self):        #top - возвращается к верхнему элементу стека\n",
        "        if self.empty():\n",
        "            return println(\"Пустой стек\")\n",
        "        return self.head.value\n",
        "    \n",
        "    def __len__(self):     #возвращает количество элементов в стеке\n",
        "        return self.size\n",
        "\n",
        "    def reverse(self):    #реверс\n",
        "        current = self.head\n",
        "        prev = None\n",
        "        next = None\n",
        " \n",
        "        while current is not None:\n",
        "            next = current.right\n",
        "            current.right = prev\n",
        "            prev = current\n",
        "            current = next\n",
        "\n",
        "        self.head = prev\n",
        "#Дек     \n",
        "class Deque:\n",
        "    def __init__(self):         #инициализация\n",
        "        self.head = Linked_List()\n",
        "        self.tail = self.head\n",
        "        self.size = 0\n",
        "    \n",
        "    def empty(self):         #empty - определить, пусто ли оно\n",
        "        return self.size == 0\n",
        "\n",
        "    def add_start(self, value): #добавляет к началу двухсторонней очереди  \n",
        "        if self.size > 0:\n",
        "            node = Linked_List(value)\n",
        "            node.right = self.tail\n",
        "            self.tail.left = node\n",
        "            self.tail = node\n",
        "        else:\n",
        "            self.tail.value = value\n",
        "        self.size += 1\n",
        "\n",
        "    def add_end(self, value):     #добавляет к концу двухсторонней очереди \n",
        "        if self.size > 0:\n",
        "            node = Linked_List(value)\n",
        "            node.left = self.head\n",
        "            self.head.right = node\n",
        "            self.head = node\n",
        "        else:\n",
        "            self.head.value = value\n",
        "        self.size += 1\n",
        "    \n",
        "    def delete_left(self):  #удаляет и возвращает элемент с левой стороны двусторонней очереди\n",
        "        if self.empty():\n",
        "            return println(\"Пустой стек\")\n",
        "        remove = self.tail\n",
        "        if self.size > 1:\n",
        "            self.tail = remove.right\n",
        "        self.size -= 1\n",
        "        return remove.value\n",
        "    \n",
        "    def delete_right(self):       #удаляет и возвращает элемент с правой стороны двусторонней очереди\n",
        "        if self.empty():\n",
        "            return println(\"Пустой стек\")\n",
        "        remove = self.head\n",
        "        if self.size > 1:\n",
        "            self.head = remove.left\n",
        "        self.size -= 1\n",
        "        return remove.value\n",
        "    \n",
        "    def return_end(self):      #возвращает элемент конца, не удаляя его\n",
        "        if self.empty():\n",
        "            return println(\"Пустой стек\")\n",
        "        return self.head.value\n",
        "    \n",
        "    def return_start(self):  #возвращает элемент начала, не удаляя его\n",
        "        if self.empty():\n",
        "            return println(\"Пустой стек\")\n",
        "        return self.tail.value\n",
        "\n",
        "    def __len__(self):    #возвращает количество элементов в двухсторонней очереди\n",
        "        return self.size"
      ],
      "metadata": {
        "id": "IuS-Yie5X0T_"
      },
      "id": "IuS-Yie5X0T_",
      "execution_count": 48,
      "outputs": []
    },
    {
      "cell_type": "markdown",
      "id": "5d7edb08",
      "metadata": {
        "scrolled": true,
        "id": "5d7edb08"
      },
      "source": [
        "### Задание №1\n",
        "Отсортировать строки файла, содержащие названия книг, в алфавитном порядке с использованием двух деков."
      ]
    },
    {
      "cell_type": "code",
      "execution_count": 50,
      "id": "17702ade",
      "metadata": {
        "id": "17702ade",
        "colab": {
          "base_uri": "https://localhost:8080/"
        },
        "outputId": "5f5d6625-3d6b-4a95-a818-db55ea8e8180"
      },
      "outputs": [
        {
          "output_type": "stream",
          "name": "stdout",
          "text": [
            "Граф Монте-Кристо\n",
            "\n",
            "Зеленая Миля\n",
            "\n",
            "Кладбище домашних животных\n",
            "\n",
            "Оно\n",
            "\n",
            "Побег из Шоушенка\n",
            "\n",
            "Сияние\n",
            "\n",
            "Темная Башня\n",
            "\n"
          ]
        }
      ],
      "source": [
        "with open(\"BooksList.txt\",\"r\") as books:\n",
        "    books=open(\"BooksList.txt\",\"r\")\n",
        "    s1 = Deque()\n",
        "    s2 = Deque()\n",
        "    for book in books:\n",
        "        s1.add_end(book)\n",
        "    while not s1.empty():\n",
        "        w = s1.delete_right()\n",
        "        while not s2.empty() and s2.return_end() > w:\n",
        "            s1.add_start(s2.delete_right())\n",
        "        s2.add_end(w)\n",
        "    while not s2.empty():\n",
        "        print(s2.delete_left())"
      ]
    },
    {
      "cell_type": "markdown",
      "id": "49fbd2a0",
      "metadata": {
        "id": "49fbd2a0"
      },
      "source": [
        "### Задание №2\n",
        "Дек содержит последовательность символов для шифровки сообщений. Дан текстовый файл, содержащий зашифрованное сообщение. Пользуясь деком, расшифровать текст. \n",
        "Известно, что при шифровке каждый символ сообщения заменялся следующим за ним в деке по часовой стрелке через один."
      ]
    },
    {
      "cell_type": "code",
      "execution_count": 33,
      "id": "81cab7a8",
      "metadata": {
        "id": "81cab7a8",
        "colab": {
          "base_uri": "https://localhost:8080/"
        },
        "outputId": "6020f49b-5974-495b-fd9d-7e060b1c9664"
      },
      "outputs": [
        {
          "output_type": "stream",
          "name": "stdout",
          "text": [
            "фтрёщопё гьрпмоёойё ибебойа\n",
            "успешное выполнение задания\n"
          ]
        }
      ],
      "source": [
        "alphabet = list('абвгдеёжзийклмнопрстуфхцчшщъыьэюя')\n",
        "key = Deque()\n",
        "for letter in alphabet:\n",
        "    key.add_end(letter)\n",
        "\n",
        "#кодировка\n",
        "def encode(s):\n",
        "    for i in range(len(key)):\n",
        "        s1 = key.delete_left()\n",
        "        if s1 == s:\n",
        "            key.add_end(s1)\n",
        "            val = key.delete_left()\n",
        "            key.add_end(val)\n",
        "            return val\n",
        "        key.add_end(s1)\n",
        "\n",
        "#декодировка\n",
        "def decode(s):\n",
        "    for i in range(len(key)):\n",
        "        s1 = key.delete_right()\n",
        "        if s1 == s:\n",
        "            key.add_start(s1)\n",
        "            val = key.delete_right()\n",
        "            key.add_start(val)\n",
        "            return val\n",
        "        key.add_start(s1)\n",
        "\n",
        "text = 'Успешное выполнение задания'.lower()\n",
        "\n",
        "encoded = ''\n",
        "for letter in text:\n",
        "    if encoded_letter := encode(letter):\n",
        "        encoded += encoded_letter\n",
        "    else:\n",
        "        encoded += letter\n",
        "print(encoded)\n",
        "\n",
        "decoded = ''\n",
        "for letter in encoded:\n",
        "    if decoded_letter := decode(letter):\n",
        "        decoded += decoded_letter\n",
        "    else:\n",
        "        decoded += letter\n",
        "print(decoded)"
      ]
    },
    {
      "cell_type": "markdown",
      "id": "c0894f47",
      "metadata": {
        "id": "c0894f47"
      },
      "source": [
        "### Задание №3\n",
        "Даны три стержня и n дисков различного размера. Диски можно надевать на стержни, образуя из них башни. Перенести n дисков со стержня А на стержень С, сохранив их первоначальный порядок. При переносе дисков необходимо соблюдать следующие правила:\n",
        "- на каждом шаге со стержня на стержень переносить только один диск;\n",
        "- диск нельзя помещать на диск меньшего размера;\n",
        "- для промежуточного хранения можно использовать стержень В.\n",
        "Реализовать алгоритм, используя три стека вместо стержней А, В, С. Информация о дисках хранится в исходном файле."
      ]
    },
    {
      "cell_type": "code",
      "execution_count": 52,
      "id": "9e91a9d4",
      "metadata": {
        "id": "9e91a9d4",
        "colab": {
          "base_uri": "https://localhost:8080/"
        },
        "outputId": "cdff83ae-5f9e-473d-f4cd-cb2b24fd73e9"
      },
      "outputs": [
        {
          "output_type": "stream",
          "name": "stdout",
          "text": [
            "1\n",
            "2\n",
            "3\n",
            "4\n",
            "5\n",
            "6\n",
            "7\n",
            "8\n",
            "9\n",
            "10\n"
          ]
        }
      ],
      "source": [
        "kernelA = Stack()\n",
        "kernelB = Stack()\n",
        "kernelC = Stack()\n",
        "\n",
        "disk = 10\n",
        "\n",
        "for i in range(disk, 0, -1):\n",
        "    kernelA.add(i)\n",
        "def moving(a, b):\n",
        "    if len(a) == 0 and len(b) > 0:\n",
        "        a.add(b.delete())\n",
        "    elif len(a) > 0 and len(b) == 0:\n",
        "        b.add(a.delete())\n",
        "    elif a.top() > b.top():\n",
        "        a.add(b.delete())\n",
        "    else:\n",
        "        b.add(a.delete())\n",
        "\n",
        "if disk % 2 == 0:\n",
        "    while len(kernelC) != disk:\n",
        "        moving(kernelA, kernelB)\n",
        "        moving(kernelA, kernelC)\n",
        "        moving(kernelB, kernelC)\n",
        "else:\n",
        "    while len(kernelC) != disk:\n",
        "        moving(kernelA, kernelC)\n",
        "        moving(kernelA, kernelB)\n",
        "        moving(kernelB, kernelC)\n",
        "\n",
        "while not kernelC.empty():\n",
        "    print(kernelC.delete())\n"
      ]
    },
    {
      "cell_type": "markdown",
      "id": "e5b0be17",
      "metadata": {
        "id": "e5b0be17"
      },
      "source": [
        "### Задание №4\n",
        "Дан текстовый файл с программой на алгоритмическом языке. За один просмотр файла проверить баланс круглых скобок в тексте, используя стек."
      ]
    },
    {
      "cell_type": "code",
      "execution_count": 35,
      "id": "5b1df60a",
      "metadata": {
        "id": "5b1df60a",
        "colab": {
          "base_uri": "https://localhost:8080/"
        },
        "outputId": "c8588904-3693-4c5e-fe88-99c07f80f8d2"
      },
      "outputs": [
        {
          "output_type": "stream",
          "name": "stdout",
          "text": [
            "True\n",
            "False\n"
          ]
        }
      ],
      "source": [
        "def brackets(string):\n",
        "    bracket_stack = Stack()\n",
        "    for i in string:\n",
        "        if i == '(':\n",
        "            bracket_stack.add(i)\n",
        "        elif i == ')':\n",
        "            if bracket_stack.empty():\n",
        "                return False\n",
        "            bracket_stack.delete()\n",
        "    return bracket_stack.empty()\n",
        "\n",
        "print(brackets('()((()()))'))\n",
        "print(brackets('(())()())()'))"
      ]
    },
    {
      "cell_type": "markdown",
      "id": "c44cdd6b",
      "metadata": {
        "id": "c44cdd6b"
      },
      "source": [
        "### Задание №5\n",
        "Дан текстовый файл с программой на алгоритмическом языке. За один просмотр файла проверить баланс квадратных скобок в тексте, используя дек."
      ]
    },
    {
      "cell_type": "code",
      "execution_count": 36,
      "id": "36b8f400",
      "metadata": {
        "id": "36b8f400",
        "colab": {
          "base_uri": "https://localhost:8080/"
        },
        "outputId": "cb82ea29-eb63-4a46-f9b7-66c0a33e83b4"
      },
      "outputs": [
        {
          "output_type": "stream",
          "name": "stdout",
          "text": [
            "True\n",
            "False\n"
          ]
        }
      ],
      "source": [
        "def square_brackets(string):\n",
        "    bracket_stack = Deque()\n",
        "    for i in string:\n",
        "        if i == '[':\n",
        "            bracket_stack.add_end(i)\n",
        "        elif i == ']':\n",
        "            if bracket_stack.empty():\n",
        "                return False\n",
        "            bracket_stack.delete_right()\n",
        "    return bracket_stack.empty()\n",
        "print(square_brackets('[[]][][[]]'))\n",
        "print(square_brackets('[]]][[]]'))"
      ]
    },
    {
      "cell_type": "markdown",
      "id": "59d13dc7",
      "metadata": {
        "id": "59d13dc7"
      },
      "source": [
        "### Задание №6\n",
        "Дан файл из символов. Используя стек, за один просмотр файла напечатать сначала все цифры, затем все буквы, и, наконец, все остальные символы, сохраняя исходный порядок в каждой группе символов."
      ]
    },
    {
      "cell_type": "code",
      "execution_count": 49,
      "id": "297e36c2",
      "metadata": {
        "id": "297e36c2",
        "colab": {
          "base_uri": "https://localhost:8080/"
        },
        "outputId": "456560fe-81da-4dc5-cf8d-ad8d0715aba7"
      },
      "outputs": [
        {
          "output_type": "stream",
          "name": "stdout",
          "text": [
            "62приветмир[+$*()_+\"  \n"
          ]
        }
      ],
      "source": [
        "text = '[+6$2*()_+\" привет мир'\n",
        "\n",
        "digits = Stack()\n",
        "letters = Stack()\n",
        "special_symbols = Stack()\n",
        "\n",
        "for s in text:\n",
        "    if s.isalpha():\n",
        "        letters.add(s)\n",
        "    elif s.isdigit():\n",
        "        digits.add(s)\n",
        "    else:\n",
        "        special_symbols.add(s)\n",
        "\n",
        "text1 = ''\n",
        "letters.reverse()\n",
        "digits.reverse()\n",
        "special_symbols.reverse()\n",
        "\n",
        "while not digits.empty():\n",
        "    text1 += digits.delete()\n",
        "while not letters.empty():\n",
        "    text1 += letters.delete()\n",
        "while not special_symbols.empty():\n",
        "    text1 += special_symbols.delete()\n",
        "print(text1)"
      ]
    },
    {
      "cell_type": "markdown",
      "id": "973f68bd",
      "metadata": {
        "id": "973f68bd"
      },
      "source": [
        "### Задание №7\n",
        "Дан файл из целых чисел. Используя дек, за один просмотр файла напечатать сначала все отрицательные числа, затем все положительные числа, сохраняя исходный порядок в каждой группе."
      ]
    },
    {
      "cell_type": "code",
      "execution_count": 41,
      "id": "c56fad66",
      "metadata": {
        "id": "c56fad66",
        "colab": {
          "base_uri": "https://localhost:8080/"
        },
        "outputId": "bcd7db29-68ba-4432-cef9-b0805f4997a7"
      },
      "outputs": [
        {
          "output_type": "stream",
          "name": "stdout",
          "text": [
            "[-12, 4, 46, 1, 0, -3, -999, 123, 7]\n",
            "-12\n",
            "-3\n",
            "-999\n",
            "4\n",
            "46\n",
            "1\n",
            "0\n",
            "123\n",
            "7\n"
          ]
        }
      ],
      "source": [
        "numbers = [-12, 4, 46, 1, 0, -3, -999, 123, 7]\n",
        "print(numbers)\n",
        "\n",
        "deque = Deque()\n",
        "for s in numbers:\n",
        "    if s < 0:\n",
        "        deque.add_start(s)\n",
        "    else:\n",
        "        deque.add_end(s)\n",
        "while not deque.empty():\n",
        "    s1 = deque.delete_left()\n",
        "    if s1 < 0:\n",
        "        deque.add_end(s1)\n",
        "    else:\n",
        "        deque.add_start(s1)\n",
        "        break\n",
        "while not deque.empty():\n",
        "    s1 = deque.delete_right()\n",
        "    if s1 < 0:\n",
        "        print(s1)\n",
        "    else:\n",
        "        deque.add_end(s1)\n",
        "        break\n",
        "while not deque.empty():\n",
        "    print(deque.delete_left())\n"
      ]
    },
    {
      "cell_type": "markdown",
      "id": "b9228191",
      "metadata": {
        "id": "b9228191"
      },
      "source": [
        "### Задание №8\n",
        "Дан текстовый файл. Используя стек, сформировать новый текстовый файл, содержащий строки исходного файла, записанные в обратном порядке: первая строка становится последней, вторая – предпоследней и т.д."
      ]
    },
    {
      "cell_type": "code",
      "execution_count": 42,
      "id": "981fbdfe",
      "metadata": {
        "id": "981fbdfe",
        "colab": {
          "base_uri": "https://localhost:8080/"
        },
        "outputId": "f4785fa3-e7eb-4ece-974d-da14d31cffd1"
      },
      "outputs": [
        {
          "output_type": "stream",
          "name": "stdout",
          "text": [
            "Сияние\n",
            "Темная Башня\n",
            "Кладбище домашних животных\n",
            "Зеленая Миля\n",
            "Оно\n",
            "Граф Монте-Кристо\n",
            "Побег из Шоушенка\n",
            "\n",
            "Побег из Шоушенка\n",
            "Граф Монте-Кристо\n",
            "Оно\n",
            "Зеленая Миля\n",
            "Кладбище домашних животных\n",
            "Темная Башня\n",
            "Сияние\n"
          ]
        }
      ],
      "source": [
        "with open('BooksList.txt', 'r') as books:\n",
        "    books=open('BooksList.txt','r')\n",
        "    stack = Stack()\n",
        "    for book in books:\n",
        "        book = book.strip()\n",
        "        print(book)\n",
        "        stack.add(book)\n",
        "    print()\n",
        "    while not stack.empty():\n",
        "        print(stack.delete())"
      ]
    },
    {
      "cell_type": "markdown",
      "id": "rental-jerusalem",
      "metadata": {
        "id": "rental-jerusalem"
      },
      "source": [
        "### Вывод\n"
      ]
    },
    {
      "cell_type": "markdown",
      "id": "0c2b8899",
      "metadata": {
        "id": "0c2b8899"
      },
      "source": [
        "При выполнении лабораторной работы я научилась реализовывать стек и дек, обрабатывать данные из документа в соответствии с заданиями."
      ]
    }
  ],
  "metadata": {
    "kernelspec": {
      "display_name": "Python 3 (ipykernel)",
      "language": "python",
      "name": "python3"
    },
    "language_info": {
      "codemirror_mode": {
        "name": "ipython",
        "version": 3
      },
      "file_extension": ".py",
      "mimetype": "text/x-python",
      "name": "python",
      "nbconvert_exporter": "python",
      "pygments_lexer": "ipython3",
      "version": "3.10.2"
    },
    "colab": {
      "provenance": []
    }
  },
  "nbformat": 4,
  "nbformat_minor": 5
}
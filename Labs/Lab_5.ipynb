{
  "cells": [
    {
      "cell_type": "markdown",
      "id": "db4b50f0",
      "metadata": {
        "id": "db4b50f0"
      },
      "source": [
        "# Лабораторная работа №5\n",
        "## Выполнил студент группы БВТ2103 Полуян Юлия Александровна"
      ]
    },
    {
      "cell_type": "markdown",
      "id": "annual-symbol",
      "metadata": {
        "id": "annual-symbol"
      },
      "source": [
        "### Оглавление\n",
        "1. [Задание 1](#Задание-№1)\n",
        "2. [Задание 2](#Задание-№2)\n",
        "4. [Вывод](#Вывод)"
      ]
    },
    {
      "cell_type": "markdown",
      "id": "independent-spirit",
      "metadata": {
        "id": "independent-spirit"
      },
      "source": [
        "> Дополнительные модули, использованные при выполнение лабораторной"
      ]
    },
    {
      "cell_type": "code",
      "execution_count": 2,
      "id": "4839be2b",
      "metadata": {
        "id": "4839be2b"
      },
      "outputs": [],
      "source": [
        "# Необходим при замере скорости выполнения кода\n",
        "from datetime import datetime as t\n",
        "# Нужен для создания словаря в алг. Бойера-Мура\n",
        "from collections import defaultdict"
      ]
    },
    {
      "cell_type": "markdown",
      "id": "inclusive-motorcycle",
      "metadata": {
        "id": "inclusive-motorcycle"
      },
      "source": [
        "### Задание №1\n",
        "Реализовать методы поиска подстроки в строке. Добавить возможность ввода строки и подстроки с клавиатуры. Предусмотреть возможность существования пробела. Реализовать возможность выбора опции чувствительности или нечувствительности к регистру. Оценить время работы каждого алгоритма поиска и сравнить его со временем работы стандартной функции поиска, используемой в выбранном языке программирования."
      ]
    },
    {
      "cell_type": "markdown",
      "id": "interracial-communication",
      "metadata": {
        "id": "interracial-communication"
      },
      "source": [
        "#### Алгоритм Кнута-Морриса-Пратта"
      ]
    },
    {
      "cell_type": "code",
      "source": [
        "line = input()\n",
        "piece = input()\n",
        "print(\"Учет регистра: да/нет\")\n",
        "flag = input()\n",
        "if(flag == 'да'):\n",
        "  Count = line.count(piece)\n",
        "  if Count == 0:\n",
        "    print('Не входит')\n",
        "  else:\n",
        "    print('Входит', Count)\n",
        "else:\n",
        "  line = line.lower()\n",
        "  piece = piece.lower()\n",
        "  Count = line.count(piece)\n",
        "  if Count == 0:\n",
        "    print('Не входит')\n",
        "  else:\n",
        "    print('Входит', Count, 'раз/раза')\n",
        "\n",
        "counter2 = line.find(piece)\n",
        "print(counter2)\n",
        "\n",
        "starttime = timeit.default_timer()\n",
        "endtime = timeit.default_timer()\n",
        "print(\"Время работы алгоритма составило:\", (endtime - starttime)*1000, \"милисекунд\")\n"
      ],
      "metadata": {
        "colab": {
          "base_uri": "https://localhost:8080/"
        },
        "id": "krZE1IjQ8AYO",
        "outputId": "c8d50341-1e0c-417c-ee35-59274e9c13a0"
      },
      "id": "krZE1IjQ8AYO",
      "execution_count": 29,
      "outputs": [
        {
          "output_type": "stream",
          "name": "stdout",
          "text": [
            "dfffdf df f d df\n",
            "df\n",
            "Учет регистра: да/нет\n",
            "нет\n",
            "Входит 4 раз/раза\n",
            "0\n",
            "Время работы алгоритма составило: 0.04455499993127887 милисекунд\n"
          ]
        }
      ]
    },
    {
      "cell_type": "code",
      "execution_count": 30,
      "id": "presidential-level",
      "metadata": {
        "id": "presidential-level",
        "colab": {
          "base_uri": "https://localhost:8080/"
        },
        "outputId": "9a78e8e3-7703-48eb-9475-e48a52bb7407"
      },
      "outputs": [
        {
          "output_type": "stream",
          "name": "stdout",
          "text": [
            "[0, 4, 7, 14]\n",
            "Время работы алгоритма составило: 0.058319999880040996 милисекунд\n"
          ]
        }
      ],
      "source": [
        "import timeit\n",
        "from os import name\n",
        "def func_prefix(s: str) -> list:\n",
        "    \"\"\"\n",
        "    Fills Pi-function array\n",
        "    :param str: lookip string\n",
        "    :return: result\n",
        "    \"\"\"\n",
        "    l = len(s)\n",
        "    P = [0]*l\n",
        "    i, j = 0, 1\n",
        "    while j < l :\n",
        "        if s[i] == s[j]:\n",
        "            P[j] = i + 1\n",
        "            i += 1\n",
        "            j += 1\n",
        "        elif i:         # i > 0\n",
        "            i = P[i - 1]\n",
        "        else:           # i == 0\n",
        "            P[j] = 0\n",
        "            j += 1\n",
        "    return P\n",
        "\n",
        "# поиск подстроки в строке с использованием ранее сформированного массива с префиксами\n",
        "def kmp(text: str, sub: str) -> list:\n",
        "    sub_len = len(sub)\n",
        "    text_len = len(text)\n",
        "    if not text_len or sub_len > text_len:\n",
        "        return []\n",
        "    P = func_prefix(sub)\n",
        "    entries = []\n",
        "    i = j = 0\n",
        "    while i < text_len:\n",
        "        if text[i] == sub[j]:\n",
        "            if j == sub_len - 1:\n",
        "                entries.append(i - sub_len + 1)\n",
        "                j = P[j]\n",
        "            else:\n",
        "                j += 1\n",
        "            i += 1\n",
        "        # text[i] 1= sub[j]\n",
        "        elif j:     # j > 0\n",
        "            j = P[j-1]\n",
        "        else:\n",
        "            i += 1\n",
        "    return entries\n",
        "\n",
        "if __name__ == '__main__':\n",
        "  P = kmp(line, piece)\n",
        "  print(P)\n",
        "\n",
        "starttime = timeit.default_timer()\n",
        "endtime = timeit.default_timer()\n",
        "print(\"Время работы алгоритма составило:\", (endtime - starttime)*1000, \"милисекунд\")\n",
        "\n"
      ]
    },
    {
      "cell_type": "markdown",
      "id": "downtown-option",
      "metadata": {
        "id": "downtown-option"
      },
      "source": [
        "#### Упрощенный алгоритм Бойера-Мура"
      ]
    },
    {
      "cell_type": "code",
      "source": [
        "def BM(string, pattern):\n",
        "#инициализация таблицы смещений\n",
        "  table = create_table(pattern)\n",
        " #инициализация указателей на конец строки и паттерна\n",
        "  string_index = len(pattern) - 1\n",
        "  pattern_index = len(pattern) - 1\n",
        "# пока не дошли до начала строки\n",
        "  while string_index < len(string):\n",
        "# если символы совпадают, двигаем указатели влево\n",
        "    if string[string_index] == pattern[pattern_index]:\n",
        "      if pattern_index == 0:\n",
        "        return string_index\n",
        "      else:\n",
        "        string_index -= 1\n",
        "        pattern_index -= 1\n",
        "    else:\n",
        "# если символы не совпадают, используем таблицу смещений\n",
        "      string_index += len(pattern) - min(pattern_index, 1 + table.get(string[string_index], -1))\n",
        "      pattern_index = len(pattern) - 1\n",
        "  return -1\n",
        "\n",
        "def create_table(pattern):\n",
        "# инициализация таблицы смещений\n",
        "  table = {}\n",
        "  for i in range(len(pattern)):\n",
        "    table[pattern[i]] = len(pattern) - i - 1\n",
        "  return table\n",
        "\n",
        "print( \"Образ найден по индексу\", BM(line, piece))\n",
        "starttime = timeit.default_timer()\n",
        "endtime = timeit.default_timer()\n",
        "print(\"Время работы алгоритма составило:\", (endtime - starttime)*1000, \"милисекунд\")\n"
      ],
      "metadata": {
        "colab": {
          "base_uri": "https://localhost:8080/"
        },
        "id": "RIqvaWGhuwyI",
        "outputId": "32861116-85b0-4381-c622-57896793058d"
      },
      "id": "RIqvaWGhuwyI",
      "execution_count": 34,
      "outputs": [
        {
          "output_type": "stream",
          "name": "stdout",
          "text": [
            "Образ найден по индексу 0\n",
            "Время работы алгоритма составило: 0.03305300015199464 милисекунд\n"
          ]
        }
      ]
    },
    {
      "cell_type": "markdown",
      "id": "hybrid-memorial",
      "metadata": {
        "id": "hybrid-memorial"
      },
      "source": [
        "### Задание №2\n",
        "Написать программу, определяющую, является ли данное\n",
        "расположение «решаемым», то есть можно ли из него за конечное число\n",
        "шагов перейти к правильному. Если это возможно, то необходимо найти хотя\n",
        "бы одно решение - последовательность движений, после которой числа будут\n",
        "расположены в правильном порядке.\n",
        "#### Входные данные: массив чисел, представляющий собой расстановку в\n",
        "Порядке «слева направо, сверху вниз». Число 0 обозначает пустое поле.\n",
        "Например, массив [1, 2, 3, 4, 5, 6, 7, 8, 9, 10, 11, 12, 13, 14, 15, 0] представляет\n",
        "собой «решенную» позицию элементов.\n",
        "#### Выходные данные: если решения нет, то функция должна вернуть\n",
        "Пустой массив []. Если решение есть, то необходимо представить решение —\n",
        "для каждого шага записывается номер передвигаемого на данном шаге\n",
        "элемента. "
      ]
    },
    {
      "cell_type": "code",
      "execution_count": 40,
      "id": "eleven-generic",
      "metadata": {
        "id": "eleven-generic",
        "colab": {
          "base_uri": "https://localhost:8080/"
        },
        "outputId": "b14f4a9b-b54d-48cf-b149-35b058971a5c"
      },
      "outputs": [
        {
          "output_type": "stream",
          "name": "stdout",
          "text": [
            "  1  2  3  4\n",
            "  5  6  7  8\n",
            " 13  9 11 12\n",
            " 10 14 15  0\n",
            "\n",
            "[15, 14, 10, 13, 9, 10, 14, 15]\n",
            "  1  2  3  4\n",
            "  5  6  7  8\n",
            "  9 10 11 12\n",
            " 13 14 15  0\n"
          ]
        }
      ],
      "source": [
        "\n",
        "from queue import PriorityQueue\n",
        "\n",
        "N = 4\n",
        "\n",
        "def moves(position):\n",
        "    # Находим индекс нуля и его позицию на поле\n",
        "    blank = position.index(0)\n",
        "    i, j = divmod(blank, N)\n",
        "    offsets = []\n",
        "    # В зависимости от местоположения нуля, смотрим варианты сдвига\n",
        "    if i > 0: offsets.append(-N)     # вверх\n",
        "    if i < N - 1: offsets.append(N)  # вниз\n",
        "    if j > 0: offsets.append(-1)     # влево\n",
        "    if j < N - 1: offsets.append(1)  # вправо\n",
        "    for offset in offsets:\n",
        "        # счет  индексов новых позиций нуля\n",
        "        swap = blank + offset\n",
        "        # вывод нового состояния поля, где 0 сдвинут в одном из направлений\n",
        "        yield tuple(position[swap] if x==blank else position[blank] if x==swap else position[x] for x in range(N*N))\n",
        "\n",
        "# проверка четности неправильных пар\n",
        "def parity(permutation):\n",
        "    seen, cycles = set(), 0\n",
        "    for i in permutation:\n",
        "        if i not in seen:\n",
        "            cycles += 1\n",
        "            while i not in seen:\n",
        "                seen.add(i)\n",
        "                i = permutation[i]\n",
        "    return (cycles + len(permutation)) % 2\n",
        "\n",
        "\n",
        "class Position:\n",
        "    def __init__(self, position, start_distance):\n",
        "        self.position = position\n",
        "        self.start_distance = start_distance\n",
        "    # переопределение метода less then для работы PriorityQueue\n",
        "    def __lt__(self, other):\n",
        "        return self.start_distance < other.start_distance\n",
        "\n",
        "    def __str__(self):\n",
        "        return '\\n'.join((N*'{:3}').format(*[i%(N*N) for i in self.position[i:]]) for i in range(0, N*N, N))\n",
        "\n",
        "SOLVED = (1, 2, 3, 4, 5, 6, 7, 8, 9, 10, 11, 12, 13, 14, 15, 0)\n",
        "\n",
        "start = [1, 2, 3, 4, 5, 6, 7, 8, 13, 9, 11, 12, 10, 14, 15, 0]\n",
        "\n",
        "# Если кол-во неправильных пар четное - такая позиция нерешаема\n",
        "if parity(start) == 0:\n",
        "    print('Нерешаемо')\n",
        "# иначе создаем из начальной позиции кортеж\n",
        "else:\n",
        "    start = tuple(start)\n",
        "    \n",
        "    # создаем экземпляр класса с кортежем стартовой позиции в качестве параметра\n",
        "    #длиной пути от начала до текущей позиции и длиной от текущей до конца    \n",
        "    p = Position(start, 0)\n",
        "    print(p)\n",
        "    print()\n",
        "    # создаем экземпляр класса приоритетной очереди\n",
        "    candidates = PriorityQueue()\n",
        "    # заносим в нее пару = это кортеж стартовой позиции и вес данной вершины\n",
        "    candidates.put(p)\n",
        "\n",
        "    # создание множества посещенных вершин\n",
        "    visited = set([p])\n",
        "\n",
        "    # создаем словарь, где будут храниться позиции, \n",
        "    #для которой будет опрелделена ее предыдущая позиция\n",
        "    came_from = {p.position: None}\n",
        "    \n",
        "    # пока позиция не равна решению\n",
        "    while p.position != SOLVED:\n",
        "        p = candidates.get() # получаем приоритетную позицию\n",
        "        for k in moves(p.position):\n",
        "            if k not in visited:\n",
        "                # кол-во цифр стоящих не на своих местах\n",
        "                candidates.put(Position(k, p.start_distance + 1))\n",
        "                # добавление нового ключа в словарь, то есть эту позицию,\n",
        "                # его значением будет предыдущая позиция\n",
        "                came_from[k] = p\n",
        "                visited.add(k)\n",
        "\n",
        "    path = []\n",
        "    x = p\n",
        "    prev = p\n",
        "    while p.position != start:\n",
        "        # берем из словаря родителя текущего состояния поля\n",
        "        p = came_from[p.position]\n",
        "        # запоминаем индекс 0 из текущего состояния и по этому индексу находим элемент,\n",
        "        # который сдвинули в предыдущих состояниях\n",
        "        number = p.position[prev.position.index(0)]\n",
        "        path.append(number)\n",
        "        # предыдущее состояние делаем текущим\n",
        "        prev = p\n",
        "    # разворачиваем путь, чтобы получить путь от первого до последнего сдвига    \n",
        "    path.reverse()\n",
        "\n",
        "    print(path)\n",
        "    print(x)"
      ]
    },
    {
      "cell_type": "markdown",
      "id": "arbitrary-amazon",
      "metadata": {
        "id": "arbitrary-amazon"
      },
      "source": [
        "### Вывод"
      ]
    },
    {
      "cell_type": "markdown",
      "id": "71bc58bf",
      "metadata": {
        "id": "71bc58bf"
      },
      "source": []
    }
  ],
  "metadata": {
    "kernelspec": {
      "display_name": "Python 3 (ipykernel)",
      "language": "python",
      "name": "python3"
    },
    "language_info": {
      "codemirror_mode": {
        "name": "ipython",
        "version": 3
      },
      "file_extension": ".py",
      "mimetype": "text/x-python",
      "name": "python",
      "nbconvert_exporter": "python",
      "pygments_lexer": "ipython3",
      "version": "3.10.2"
    },
    "colab": {
      "provenance": []
    }
  },
  "nbformat": 4,
  "nbformat_minor": 5
}
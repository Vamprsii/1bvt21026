{
  "cells": [
    {
      "cell_type": "markdown",
      "id": "fifteen-sailing",
      "metadata": {
        "id": "fifteen-sailing"
      },
      "source": [
        "# Лабораторная работа №1\n",
        "## Выполнил студент группы БВТ2103 Полуян Юлия Алксандровна"
      ]
    },
    {
      "cell_type": "markdown",
      "id": "particular-syndicate",
      "metadata": {
        "id": "particular-syndicate"
      },
      "source": [
        "### Оглавление\n",
        "1. [Задание 1](#Задание-№1)\n",
        "2. [Задание 2](#Задание-№2)\n",
        "3. [Задание 3](#Задание-№3)\n",
        "4. [Вывод](#Вывод)"
      ]
    },
    {
      "cell_type": "markdown",
      "id": "arctic-stocks",
      "metadata": {
        "id": "arctic-stocks"
      },
      "source": [
        "### Задание №1\n",
        "<i> Вызвать функцию print() и передать туда строку Hello, World! </i>"
      ]
    },
    {
      "cell_type": "code",
      "execution_count": null,
      "id": "caring-truck",
      "metadata": {
        "scrolled": true,
        "id": "caring-truck",
        "colab": {
          "base_uri": "https://localhost:8080/"
        },
        "outputId": "ced54095-fd67-40f5-b5f3-436468ec9315"
      },
      "outputs": [
        {
          "output_type": "stream",
          "name": "stdout",
          "text": [
            "Hello, World!\n"
          ]
        }
      ],
      "source": [
        "print(\"Hello, World!\")"
      ]
    },
    {
      "cell_type": "markdown",
      "id": "maritime-conversation",
      "metadata": {
        "id": "maritime-conversation"
      },
      "source": [
        "### Задание №2\n",
        "Написать генератор случайных матриц(многомерных), который принимает\n",
        "опциональные параметры <b>m</b>, <b>n</b>, <b>min_limit</b>, <b>max_limit</b>, где <b>m</b> и <b>n</b> указывают размер\n",
        "матрицы, а <b>min_lim</b> и <b>max_lim</b> - минимальное и максимальное значение для\n",
        "генерируемого числа."
      ]
    },
    {
      "cell_type": "code",
      "execution_count": null,
      "id": "built-contact",
      "metadata": {
        "id": "built-contact"
      },
      "outputs": [],
      "source": [
        "from random import randint\n",
        "from pprint import pprint\n",
        "import time"
      ]
    },
    {
      "cell_type": "code",
      "execution_count": null,
      "id": "alert-charm",
      "metadata": {
        "id": "alert-charm",
        "outputId": "0e0393cf-2908-49f1-98b2-7d45ba16220e",
        "colab": {
          "base_uri": "https://localhost:8080/"
        }
      },
      "outputs": [
        {
          "output_type": "stream",
          "name": "stdout",
          "text": [
            "m = 4\n",
            "n = 5\n",
            "min_limit = 12\n",
            "max_limit = 123\n",
            "[[98, 53, 43, 60],\n",
            " [39, 14, 100, 68],\n",
            " [115, 12, 80, 18],\n",
            " [94, 103, 91, 46],\n",
            " [38, 48, 54, 119]]\n"
          ]
        }
      ],
      "source": [
        "m = int(input(\"m = \"))\n",
        "n = int(input(\"n = \"))\n",
        "\n",
        "min_lim = int(input(\"min_limit = \"))\n",
        "max_lim = int(input(\"max_limit = \"))\n",
        "\n",
        "Matrix = [[randint(min_lim, max_lim) for i in range(m)] for j in range(n)]\n",
        "\n",
        "pprint(Matrix)"
      ]
    },
    {
      "cell_type": "markdown",
      "id": "catholic-roots",
      "metadata": {
        "id": "catholic-roots"
      },
      "source": [
        "### Задание №3\n",
        "Реализовать методы сортировки строк числовой матрицы в соответствии с\n",
        "заданием. Оценить время работы каждого алгоритма сортировки и сравнить его со\n",
        "временем стандартной функции сортировки. Испытания проводить на сгенерированных\n",
        "матрицах."
      ]
    },
    {
      "cell_type": "code",
      "execution_count": null,
      "id": "opposed-creature",
      "metadata": {
        "id": "opposed-creature",
        "colab": {
          "base_uri": "https://localhost:8080/"
        },
        "outputId": "6fe45ebd-d919-4269-c3f8-fbdfd8036f60"
      },
      "outputs": [
        {
          "output_type": "stream",
          "name": "stdout",
          "text": [
            "4 5 12 123\n",
            "Матрица\n",
            "61 66 50 93 104 \n",
            "119 93 54 87 38 \n",
            "12 105 32 60 118 \n",
            "47 61 46 37 67 \n"
          ]
        }
      ],
      "source": [
        "import copy\n",
        "import random\n",
        "import timeit\n",
        "import matplotlib.pyplot as plt\n",
        "\n",
        "def generateMatrix(m=int, n=int, min_lim=int, max_lim=int):\n",
        "    matrix = [[random.randint(min_lim, max_lim) for i in range(m)] for i in range(n)]\n",
        "    for i in range(m):\n",
        "        for j in range(n):\n",
        "            print(matrix[j][i], end=' ')\n",
        "        print()\n",
        "    return matrix\n",
        "\n",
        "s = input()\n",
        "s_list = s.split()\n",
        "print(\"Матрица\")\n",
        "if len(s_list) == 1:\n",
        "    arrayExample = generateMatrix(int(s_list[0]))\n",
        "if len(s_list) == 2:\n",
        "    arrayExample = generateMatrix(int(s_list[0]), int(s_list[1]))\n",
        "if len(s_list) == 3:\n",
        "    arrayExample = generateMatrix(int(s_list[0]), int(s_list[1]), int(s_list[2]))\n",
        "if len(s_list) == 4:\n",
        "    arrayExample = generateMatrix(int(s_list[0]), int(s_list[1]), int(s_list[2]), int(s_list[3]))\n",
        "if len(s_list) == 0:\n",
        "    arrayExample = generateMatrix()"
      ]
    },
    {
      "cell_type": "code",
      "execution_count": null,
      "id": "cleared-anniversary",
      "metadata": {
        "id": "cleared-anniversary",
        "outputId": "b33cd463-617f-4dd7-a546-ad8d21f296a7",
        "colab": {
          "base_uri": "https://localhost:8080/"
        }
      },
      "outputs": [
        {
          "output_type": "stream",
          "name": "stdout",
          "text": [
            "Время работы сортировки выбором: --- 0.09718000001157634 ms ---\n"
          ]
        }
      ],
      "source": [
        "# Сортировка выбором.\n",
        "# Берётся срез массива, в котором минимальный элемент переносят в самый левый угол,\n",
        "# после чего срез уменьшается и цикл повторяется.\n",
        "\n",
        "def selectionSort(q):\n",
        "    w = q.copy()\n",
        "    for e in range(len(w)):\n",
        "        for i in range(len(w[e]) - 1):\n",
        "            m = i\n",
        "            j = i + 1\n",
        "            while j < len(w[e]):\n",
        "                if w[e][j] < w[e][m]:\n",
        "                    m = j\n",
        "                j = j + 1\n",
        "            w[e][i], w[e][m] = w[e][m], w[e][i]\n",
        "    return w\n",
        "\n",
        "start_time = timeit.default_timer()\n",
        "selectionSort(arrayExample)\n",
        "print(\"Время работы сортировки выбором: \" +  \"--- {0} ms ---\".format((timeit.default_timer() - start_time)*1000))\n",
        "\n"
      ]
    },
    {
      "cell_type": "code",
      "execution_count": null,
      "id": "roman-silly",
      "metadata": {
        "scrolled": true,
        "id": "roman-silly",
        "outputId": "cc65b687-9980-48f6-e1c7-d3c26892be43",
        "colab": {
          "base_uri": "https://localhost:8080/"
        }
      },
      "outputs": [
        {
          "output_type": "stream",
          "name": "stdout",
          "text": [
            "Время работы сортировки вставкой: --- 0.09080999984689697 ms ---\n"
          ]
        }
      ],
      "source": [
        "# Сортировка вставкой.\n",
        "def insertionSort(q):\n",
        "    w = q.copy()\n",
        "    for r in range(len(w)):\n",
        "        for i in range(1, len(w[r])):\n",
        "            k = w[r][i]\n",
        "            j = i - 1\n",
        "            while j >= 0 and k < w[r][j]:\n",
        "                w[r][j + 1] = w[r][j]\n",
        "                j -= 1\n",
        "            w[r][j + 1] = k\n",
        "    return w\n",
        "\n",
        "start_time = timeit.default_timer()\n",
        "insertionSort(arrayExample)\n",
        "print(\"Время работы сортировки вставкой: \" +  \"--- {0} ms ---\".format((timeit.default_timer() - start_time)*1000))"
      ]
    },
    {
      "cell_type": "code",
      "execution_count": null,
      "id": "vital-implementation",
      "metadata": {
        "id": "vital-implementation",
        "outputId": "21c73417-ef80-4f36-d6a5-f9bf0beadb07",
        "colab": {
          "base_uri": "https://localhost:8080/"
        }
      },
      "outputs": [
        {
          "output_type": "stream",
          "name": "stdout",
          "text": [
            "Время работы сортировки обменом: --- 0.09375000013278623 ms ---\n"
          ]
        }
      ],
      "source": [
        "# Сортировка обменом. || Сортировка пузырьком.\n",
        "def bubbleSort(q):\n",
        "    w = q.copy()\n",
        "    for r in range(len(w)):\n",
        "        for i in range(len(w[r])):\n",
        "            for j in range(len(w[r]) - i - 1):\n",
        "                if w[r][j] > w[r][j + 1]:\n",
        "                    w[r][j], w[r][j + 1] = w[r][j + 1], w[r][j]\n",
        "    return w\n",
        "\n",
        "start_time = timeit.default_timer()\n",
        "bubbleSort(arrayExample)\n",
        "print(\"Время работы сортировки обменом: \" +  \"--- {0} ms ---\".format((timeit.default_timer() - start_time)*1000))\n"
      ]
    },
    {
      "cell_type": "code",
      "execution_count": null,
      "id": "veterinary-glory",
      "metadata": {
        "id": "veterinary-glory",
        "outputId": "f9ff1a75-edf6-4ca5-8c9a-7ed8f6be171d",
        "colab": {
          "base_uri": "https://localhost:8080/"
        }
      },
      "outputs": [
        {
          "output_type": "stream",
          "name": "stdout",
          "text": [
            "Время работы сортировки Шелла: --- 0.09417000001121778 ms ---\n"
          ]
        }
      ],
      "source": [
        "# Сортировка Шелла.\n",
        "def shellsSort(q):\n",
        "    w = q.copy()\n",
        "    for r in range(len(w)):\n",
        "        d = len(w) // 2\n",
        "        while d:\n",
        "            for i, el in enumerate(w[r]):\n",
        "                while i >= d and w[r][i - d] > el:\n",
        "                    w[r][i] = w[r][i - d]\n",
        "                    i -= d\n",
        "                w[r][i] = el\n",
        "            d = 1 if d == 2 else int(d * 5.0 / 11)\n",
        "    return w\n",
        "\n",
        "start_time = timeit.default_timer()\n",
        "shellsSort(arrayExample)\n",
        "print(\"Время работы сортировки Шелла: \" + \"--- {0} ms ---\".format((timeit.default_timer() - start_time)*1000)"
      ]
    },
    {
      "cell_type": "code",
      "execution_count": null,
      "id": "correct-chaos",
      "metadata": {
        "id": "correct-chaos",
        "outputId": "11c7b287-4bae-4562-fc3f-a9da17b3fb88",
        "colab": {
          "base_uri": "https://localhost:8080/"
        }
      },
      "outputs": [
        {
          "output_type": "stream",
          "name": "stdout",
          "text": [
            "Время работы быстрой сортировки: --- 0.13007999996261788 ms ---\n"
          ]
        }
      ],
      "source": [
        "# Быстрая сортировка.\n",
        "def quickSort(w):\n",
        "    q = w.copy()\n",
        "    for i in range(len(q)):\n",
        "        supportQuickSortMethod(0, len(q[i]) - 1, q, i)\n",
        "    return q\n",
        "\n",
        "\n",
        "def supportQuickSortMethod(a_first, a_last, array, row):\n",
        "    first = int(a_first)\n",
        "    last = int(a_last)\n",
        "    middle = int((first + last) / 2)\n",
        "\n",
        "    while (first < last):\n",
        "\n",
        "        while (array[row][first] < array[row][middle]):\n",
        "            first += 1\n",
        "        while (array[row][last] > array[row][middle]):\n",
        "            last -= 1\n",
        "        if (first <= last):\n",
        "            array[row][first], array[row][last] = array[row][last], array[row][first]\n",
        "            first += 1\n",
        "            last -= 1\n",
        "\n",
        "    if (a_first < last):\n",
        "        supportQuickSortMethod(a_first, last, array, row)\n",
        "    if (first < a_last):\n",
        "        supportQuickSortMethod(first, a_last, array, row)\n",
        "\n",
        "start_time = timeit.default_timer()\n",
        "quickSort(arrayExample)\n",
        "print(\"Время работы быстрой сортировки: \" + \"--- {0} ms ---\".format((timeit.default_timer() - start_time)*1000))\n",
        "\n",
        "    "
      ]
    },
    {
      "cell_type": "code",
      "execution_count": null,
      "id": "french-czech",
      "metadata": {
        "colab": {
          "base_uri": "https://localhost:8080/",
          "height": 282
        },
        "id": "french-czech",
        "outputId": "81f76703-0711-43e9-af9f-7f0c47a1213a"
      },
      "outputs": [
        {
          "output_type": "stream",
          "name": "stdout",
          "text": [
            "Время работы турнирной сортировки: --- 0.22083999965616385 ms ---\n"
          ]
        },
        {
          "output_type": "display_data",
          "data": {
            "text/plain": [
              "<Figure size 432x288 with 1 Axes>"
            ],
            "image/png": "[encoded data removed]"
          },
          "metadata": {
            "needs_background": "light"
          }
        }
      ],
      "source": [
        "# Турнирная сортировка.\n",
        "def tournamentSort(array, m, n):\n",
        "    arr1 = array.copy()\n",
        "    for i in range(len(arr1)):\n",
        "        supportTournamentSortMethod(arr1[i])\n",
        "    return arr1\n",
        "\n",
        "\n",
        "def supportTournamentSortMethod(arr1):\n",
        "    y = [None] * 2 * (len(arr1) + len(arr1) % 2)\n",
        "    index = len(y) - len(arr1) - len(arr1) % 2\n",
        "\n",
        "    for i, v in enumerate(arr1):\n",
        "        y[index + i] = (i, v)\n",
        "\n",
        "    for j in range(len(arr1)):\n",
        "        n = len(arr1)\n",
        "        index = len(y) - len(arr1) - len(arr1) % 2\n",
        "        while index > -1:\n",
        "            n = (n + 1) // 2\n",
        "            for i in range(n):\n",
        "                i = max(index + i * 2, 1)\n",
        "                if y[i] != None and y[i + 1] != None:\n",
        "                    if y[i][1] < y[i + 1][1]:\n",
        "                        y[i // 2] = y[i]\n",
        "                    else:\n",
        "                        y[i // 2] = y[i + 1]\n",
        "                else:\n",
        "                    y[i // 2] = y[i] if y[i] != None else y[i + 1]\n",
        "            index -= n\n",
        "\n",
        "        index, x = y[0]\n",
        "        arr1[j] = x\n",
        "        y[len(y) - len(arr1) - len(arr1) % 2 + index] = None\n",
        "\n",
        "start_time = timeit.default_timer()\n",
        "tournamentSort(arrayExample,m[i],n[i])\n",
        "print(\"Время работы турнирной сортировки: \" + \"--- {0} ms ---\".format((timeit.default_timer() - start_time)*1000))\n",
        "\n",
        "\n",
        "m = [15,89,627,876,987]\n",
        "n = [20,202,123,678,576]\n",
        "s = [m[0]*n[0],m[1]*n[1],m[2]*n[2],m[3]*n[3],m[4]*n[4]]\n",
        "t = [0,0,0,0,0]\n",
        "for i in range(5):\n",
        "    timeit.default_timer()\n",
        "    tournamentSort(arrayExample,m[i],n[i])\n",
        "    t[i] = (timeit.default_timer() - start_time)*1000\n",
        "plt.plot(s, t, 'o-r', alpha=0.7, label=\"first\", lw=5, mec='b', mew=2, ms=10)\n",
        "plt.show()"
      ]
    },
    {
      "cell_type": "markdown",
      "id": "rental-jerusalem",
      "metadata": {
        "id": "rental-jerusalem"
      },
      "source": [
        "### Вывод\n"
      ]
    },
    {
      "cell_type": "markdown",
      "id": "9d108a0a",
      "metadata": {
        "id": "9d108a0a"
      },
      "source": [
        "В ходе выполнения лабораторной работы мы написали генератор случайных матриц, а также реализовали методы сортировки строк матрицы."
      ]
    }
  ],
  "metadata": {
    "kernelspec": {
      "display_name": "Python 3 (ipykernel)",
      "language": "python",
      "name": "python3"
    },
    "language_info": {
      "codemirror_mode": {
        "name": "ipython",
        "version": 3
      },
      "file_extension": ".py",
      "mimetype": "text/x-python",
      "name": "python",
      "nbconvert_exporter": "python",
      "pygments_lexer": "ipython3",
      "version": "3.10.2"
    },
    "colab": {
      "provenance": []
    }
  },
  "nbformat": 4,
  "nbformat_minor": 5
}